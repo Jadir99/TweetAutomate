{
 "cells": [
  {
   "cell_type": "code",
   "execution_count": 13,
   "metadata": {},
   "outputs": [],
   "source": [
    "import automate\n",
    "# test\n",
    "from flask import Flask ,render_template,request\n",
    "app=Flask(__name__)"
   ]
  },
  {
   "cell_type": "code",
   "execution_count": 14,
   "metadata": {},
   "outputs": [],
   "source": [
    "# index\n",
    "@app.route('/')\n",
    "def index():\n",
    "    return render_template('index.html')\n",
    "\n",
    "\n",
    "# log in page\n",
    "@app.route('/login')\n",
    "def login():\n",
    "    return render_template('login.html')\n",
    "\n",
    "# after login pass to welom home \n",
    "@app.route('/verifier_login',methods = ['GET','POST'])\n",
    "def verifier_login():\n",
    "    if request.method == 'POST':\n",
    "        username=request.form['username']\n",
    "        password=request.form['password']\n",
    "        automate.login(username, password)\n",
    "        return login()\n",
    "    else: # request.methode != 'GET'\n",
    "        return \"post\"\n"
   ]
  },
  {
   "cell_type": "code",
   "execution_count": 15,
   "metadata": {},
   "outputs": [
    {
     "name": "stdout",
     "output_type": "stream",
     "text": [
      " * Serving Flask app '__main__'\n",
      " * Debug mode: on\n"
     ]
    },
    {
     "name": "stderr",
     "output_type": "stream",
     "text": [
      "WARNING: This is a development server. Do not use it in a production deployment. Use a production WSGI server instead.\n",
      " * Running on http://127.0.0.1:5005\n",
      "Press CTRL+C to quit\n",
      "127.0.0.1 - - [27/May/2024 22:04:41] \"GET / HTTP/1.1\" 200 -\n",
      "127.0.0.1 - - [27/May/2024 22:04:41] \"GET /static/ HTTP/1.1\" 404 -\n",
      "127.0.0.1 - - [27/May/2024 22:04:41] \"GET /eel.js HTTP/1.1\" 404 -\n",
      "127.0.0.1 - - [27/May/2024 22:04:41] \"GET /static/css/responsive.css HTTP/1.1\" 304 -\n",
      "127.0.0.1 - - [27/May/2024 22:04:41] \"GET /static/css/demo.css HTTP/1.1\" 304 -\n",
      "127.0.0.1 - - [27/May/2024 22:04:41] \"GET /static/css/style.css HTTP/1.1\" 304 -\n",
      "127.0.0.1 - - [27/May/2024 22:04:41] \"GET /static/vendor/fonts/boxicons.css HTTP/1.1\" 304 -\n",
      "127.0.0.1 - - [27/May/2024 22:04:41] \"GET /static/vendor/css/core.css HTTP/1.1\" 304 -\n",
      "127.0.0.1 - - [27/May/2024 22:04:41] \"GET /static/vendor/css/theme-default.css HTTP/1.1\" 304 -\n",
      "127.0.0.1 - - [27/May/2024 22:04:41] \"GET /static/vendor/libs/perfect-scrollbar/perfect-scrollbar.css HTTP/1.1\" 304 -\n",
      "127.0.0.1 - - [27/May/2024 22:04:41] \"GET /static/js/config.js HTTP/1.1\" 304 -\n",
      "127.0.0.1 - - [27/May/2024 22:04:41] \"GET /static/vendor/js/helpers.js HTTP/1.1\" 304 -\n",
      "127.0.0.1 - - [27/May/2024 22:04:41] \"GET /static/css/font-awesome.min.css HTTP/1.1\" 404 -\n",
      "127.0.0.1 - - [27/May/2024 22:04:41] \"GET /static/css/owl.carousel.min.css HTTP/1.1\" 404 -\n",
      "127.0.0.1 - - [27/May/2024 22:04:41] \"GET /static/img/function.png HTTP/1.1\" 404 -\n",
      "127.0.0.1 - - [27/May/2024 22:04:41] \"GET /static/vendor/libs/jquery/jquery.js HTTP/1.1\" 304 -\n",
      "127.0.0.1 - - [27/May/2024 22:04:41] \"GET /static/vendor/fonts/boxicons/boxicons.woff2 HTTP/1.1\" 304 -\n",
      "127.0.0.1 - - [27/May/2024 22:04:41] \"GET /static/vendor/libs/popper/popper.js HTTP/1.1\" 304 -\n",
      "127.0.0.1 - - [27/May/2024 22:04:41] \"GET /static/vendor/js/bootstrap.js HTTP/1.1\" 304 -\n",
      "127.0.0.1 - - [27/May/2024 22:04:41] \"GET /static/vendor/libs/perfect-scrollbar/perfect-scrollbar.js HTTP/1.1\" 304 -\n",
      "127.0.0.1 - - [27/May/2024 22:04:41] \"GET /static/vendor/js/menu.js HTTP/1.1\" 304 -\n",
      "127.0.0.1 - - [27/May/2024 22:04:41] \"GET /static/js/main.js HTTP/1.1\" 304 -\n",
      "127.0.0.1 - - [27/May/2024 22:04:43] \"GET /login HTTP/1.1\" 200 -\n",
      "127.0.0.1 - - [27/May/2024 22:04:43] \"GET /eel.js HTTP/1.1\" 404 -\n",
      "127.0.0.1 - - [27/May/2024 22:04:43] \"GET /static/vendor/fonts/boxicons.css HTTP/1.1\" 304 -\n",
      "127.0.0.1 - - [27/May/2024 22:04:43] \"GET /static/vendor/css/core.css HTTP/1.1\" 304 -\n",
      "127.0.0.1 - - [27/May/2024 22:04:43] \"GET /static/css/demo.css HTTP/1.1\" 304 -\n",
      "127.0.0.1 - - [27/May/2024 22:04:43] \"GET /static/vendor/css/theme-default.css HTTP/1.1\" 304 -\n",
      "127.0.0.1 - - [27/May/2024 22:04:44] \"GET /static/vendor/libs/perfect-scrollbar/perfect-scrollbar.css HTTP/1.1\" 304 -\n",
      "127.0.0.1 - - [27/May/2024 22:04:44] \"GET /static/vendor/js/helpers.js HTTP/1.1\" 304 -\n",
      "127.0.0.1 - - [27/May/2024 22:04:44] \"GET /static/js/config.js HTTP/1.1\" 304 -\n",
      "127.0.0.1 - - [27/May/2024 22:04:44] \"GET /static/vendor/libs/jquery/jquery.js HTTP/1.1\" 304 -\n",
      "127.0.0.1 - - [27/May/2024 22:04:44] \"GET /static/img/function.png HTTP/1.1\" 404 -\n",
      "127.0.0.1 - - [27/May/2024 22:04:44] \"GET /static/vendor/fonts/boxicons/boxicons.woff2 HTTP/1.1\" 304 -\n",
      "127.0.0.1 - - [27/May/2024 22:04:44] \"GET /static/vendor/libs/popper/popper.js HTTP/1.1\" 304 -\n",
      "127.0.0.1 - - [27/May/2024 22:04:44] \"GET /static/vendor/libs/perfect-scrollbar/perfect-scrollbar.js HTTP/1.1\" 304 -\n",
      "127.0.0.1 - - [27/May/2024 22:04:44] \"GET /static/vendor/js/bootstrap.js HTTP/1.1\" 304 -\n",
      "127.0.0.1 - - [27/May/2024 22:04:44] \"GET /static/vendor/js/menu.js HTTP/1.1\" 304 -\n",
      "127.0.0.1 - - [27/May/2024 22:04:44] \"GET /static/js/main.js HTTP/1.1\" 304 -\n",
      "127.0.0.1 - - [27/May/2024 22:05:15] \"POST /verifier_login HTTP/1.1\" 200 -\n",
      "127.0.0.1 - - [27/May/2024 22:05:15] \"GET /eel.js HTTP/1.1\" 404 -\n",
      "127.0.0.1 - - [27/May/2024 22:05:15] \"GET /static/vendor/css/core.css HTTP/1.1\" 304 -\n",
      "127.0.0.1 - - [27/May/2024 22:05:15] \"GET /static/vendor/css/theme-default.css HTTP/1.1\" 304 -\n",
      "127.0.0.1 - - [27/May/2024 22:05:15] \"GET /static/css/demo.css HTTP/1.1\" 304 -\n",
      "127.0.0.1 - - [27/May/2024 22:05:15] \"GET /static/vendor/libs/perfect-scrollbar/perfect-scrollbar.css HTTP/1.1\" 304 -\n",
      "127.0.0.1 - - [27/May/2024 22:05:15] \"GET /static/js/config.js HTTP/1.1\" 304 -\n",
      "127.0.0.1 - - [27/May/2024 22:05:15] \"GET /static/vendor/fonts/boxicons.css HTTP/1.1\" 304 -\n",
      "127.0.0.1 - - [27/May/2024 22:05:15] \"GET /static/vendor/js/helpers.js HTTP/1.1\" 304 -\n",
      "127.0.0.1 - - [27/May/2024 22:05:15] \"GET /static/img/function.png HTTP/1.1\" 404 -\n",
      "127.0.0.1 - - [27/May/2024 22:05:15] \"GET /static/vendor/libs/jquery/jquery.js HTTP/1.1\" 304 -\n",
      "127.0.0.1 - - [27/May/2024 22:05:15] \"GET /static/vendor/libs/popper/popper.js HTTP/1.1\" 304 -\n",
      "127.0.0.1 - - [27/May/2024 22:05:15] \"GET /static/vendor/js/bootstrap.js HTTP/1.1\" 304 -\n",
      "127.0.0.1 - - [27/May/2024 22:05:15] \"GET /static/vendor/js/menu.js HTTP/1.1\" 304 -\n",
      "127.0.0.1 - - [27/May/2024 22:05:15] \"GET /static/vendor/libs/perfect-scrollbar/perfect-scrollbar.js HTTP/1.1\" 304 -\n",
      "127.0.0.1 - - [27/May/2024 22:05:15] \"GET /static/vendor/fonts/boxicons/boxicons.woff2 HTTP/1.1\" 304 -\n",
      "127.0.0.1 - - [27/May/2024 22:05:15] \"GET /static/js/main.js HTTP/1.1\" 304 -\n"
     ]
    }
   ],
   "source": [
    "if __name__ == '__main__':\n",
    "    app.run(debug=True,port=5005,use_reloader=False)"
   ]
  }
 ],
 "metadata": {
  "kernelspec": {
   "display_name": "Python 3",
   "language": "python",
   "name": "python3"
  },
  "language_info": {
   "codemirror_mode": {
    "name": "ipython",
    "version": 3
   },
   "file_extension": ".py",
   "mimetype": "text/x-python",
   "name": "python",
   "nbconvert_exporter": "python",
   "pygments_lexer": "ipython3",
   "version": "3.11.3"
  }
 },
 "nbformat": 4,
 "nbformat_minor": 2
}
