{
 "cells": [
  {
   "cell_type": "code",
   "execution_count": 49,
   "metadata": {},
   "outputs": [],
   "source": [
    "from selenium import webdriver\n",
    "from selenium.webdriver.common.by import By\n",
    "from selenium.webdriver.common.keys import Keys\n",
    "from time import sleep\n",
    "\n",
    "from selenium.webdriver.edge.service import Service\n"
   ]
  },
  {
   "cell_type": "code",
   "execution_count": 50,
   "metadata": {},
   "outputs": [],
   "source": [
    "\n",
    "\n",
    "# Path to the newly downloaded WebDriver\n",
    "edge_driver_path = 'C:\\\\Users\\\\hp\\\\Downloads\\\\edge_driver\\\\msedgedriver.exe'\n",
    "service = Service(edge_driver_path)\n",
    "\n",
    "# Initialize the WebDriver with the Service object\n",
    "driver = webdriver.Edge(service=service)\n",
    "\n",
    "# Your test code here\n",
    "driver.get('https://x.com/i/flow/login')\n",
    "\n",
    "\n",
    "# Setup the log in\n",
    "sleep(3)\n",
    "username = driver.find_element(By.XPATH,\"//input[@name='text']\")\n",
    "username.send_keys(\"jadir99\")\n",
    "next_button = driver.find_element(By.XPATH,\"//span[contains(text(),'Next')]\")\n",
    "next_button.click()\n",
    "\n",
    "sleep(3)\n",
    "password = driver.find_element(By.XPATH,\"//input[@name='password']\")\n",
    "password.send_keys('jadir99jadir99')\n",
    "log_in = driver.find_element(By.XPATH,\"//span[contains(text(),'Log in')]\")\n",
    "log_in.click()"
   ]
  },
  {
   "cell_type": "markdown",
   "metadata": {},
   "source": [
    "fonction pour aboones a des amis "
   ]
  },
  {
   "cell_type": "code",
   "execution_count": 19,
   "metadata": {},
   "outputs": [],
   "source": [
    "def add_freind():\n",
    "    name=\"Cristiano\"\n",
    "    url=\"https://twitter.com/\"+name\n",
    "    driver.get(url)\n",
    "    sleep(3)\n",
    "    follow=driver.find_element(By.XPATH,\"//span[contains(text(),'Follow')]\")\n",
    "    follow.click()\n",
    "add_freind()"
   ]
  },
  {
   "cell_type": "markdown",
   "metadata": {},
   "source": [
    "Publier des status"
   ]
  },
  {
   "cell_type": "code",
   "execution_count": 33,
   "metadata": {},
   "outputs": [],
   "source": [
    "def add_post():\n",
    "    url=\"https://twitter.com/home\"\n",
    "    driver.get(url)\n",
    "    sleep(3)\n",
    "    follow=driver.find_element(By.XPATH,\"//span[contains(text(),'Post')]\")\n",
    "    follow.click()\n",
    "    sleep(2)\n",
    "    publicite=driver.find_element(By.XPATH,\"//span[@data-text='true']\") \n",
    "    publicite.send_keys('hello world from python and jadir mohammed')\n",
    "    follow=driver.find_element(By.XPATH,\"//span[contains(text(),'Post')]\")\n",
    "    follow.click()\n",
    "    \n",
    "add_post()"
   ]
  },
  {
   "cell_type": "markdown",
   "metadata": {},
   "source": [
    "add photo"
   ]
  },
  {
   "cell_type": "code",
   "execution_count": null,
   "metadata": {},
   "outputs": [],
   "source": []
  },
  {
   "cell_type": "markdown",
   "metadata": {},
   "source": [
    "• Publier des vidéos (reels, shorts, videos, ...)"
   ]
  },
  {
   "cell_type": "code",
   "execution_count": null,
   "metadata": {},
   "outputs": [],
   "source": []
  },
  {
   "cell_type": "markdown",
   "metadata": {},
   "source": [
    "Aimer et commenter"
   ]
  },
  {
   "cell_type": "code",
   "execution_count": 52,
   "metadata": {},
   "outputs": [],
   "source": [
    "# // function of like and ommen\n",
    "def like_tweet():\n",
    "    id_post='1794605275850371199'\n",
    "    username=\"elonmusk\"\n",
    "    url=\"https://twitter.com/\"+username+\"/status/\"+id_post\n",
    "    driver.get(url)\n",
    "    sleep(3)\n",
    "   \n",
    "    like_button=driver.find_element(By.XPATH,\"//button[contains(@aria-label, 'Likes. Like') and @data-testid='like']\") \n",
    "    # Click the like button\n",
    "    like_button.click()\n",
    "    \n",
    "like_tweet()"
   ]
  },
  {
   "cell_type": "markdown",
   "metadata": {},
   "source": [
    "Partager le contenu d'autre personnes"
   ]
  },
  {
   "cell_type": "code",
   "execution_count": 57,
   "metadata": {},
   "outputs": [
    {
     "data": {
      "text/plain": [
       "'deja reposted'"
      ]
     },
     "execution_count": 57,
     "metadata": {},
     "output_type": "execute_result"
    }
   ],
   "source": [
    "# // function of like and ommen\n",
    "def share_tweet():\n",
    "    id_post='1794605275850371199'\n",
    "    username=\"elonmusk\"\n",
    "    url=\"https://twitter.com/\"+username+\"/status/\"+id_post\n",
    "    driver.get(url)\n",
    "    sleep(3)\n",
    "   \n",
    "    like_button=driver.find_element(By.XPATH,\"//button[contains(@aria-label, 'reposts. Repost')]\") \n",
    "    # Click the like button\n",
    "    like_button.click()\n",
    "    sleep(1)\n",
    "    if driver.find_element(By.XPATH,\"//span[contains(text(),'Repost')]\"):\n",
    "        repost=driver.find_element(By.XPATH,\"//span[contains(text(),'Repost')]\")\n",
    "        repost.click()\n",
    "    return \"deja reposted\"\n",
    "\n",
    "    \n",
    "share_tweet()"
   ]
  },
  {
   "cell_type": "markdown",
   "metadata": {},
   "source": [
    " désabonner"
   ]
  },
  {
   "cell_type": "code",
   "execution_count": 60,
   "metadata": {},
   "outputs": [],
   "source": [
    "def Unfollow():\n",
    "    name=\"Cristiano\"\n",
    "    url=\"https://twitter.com/\"+name\n",
    "    driver.get(url)\n",
    "    sleep(3)\n",
    "    if driver.find_element(By.XPATH,\"//span[contains(text(),'Following')]\"):\n",
    "        follow=driver.find_element(By.XPATH,\"//span[contains(text(),'Following')]\")\n",
    "        follow.click()\n",
    "        follow=driver.find_element(By.XPATH,\"//span[@class='css-1jxf684 r-bcqeeo r-1ttztb7 r-qvutc0 r-poiln3' and text()='Unfollow']\")\n",
    "        follow.click()\n",
    "\n",
    "Unfollow()"
   ]
  },
  {
   "cell_type": "markdown",
   "metadata": {},
   "source": [
    "Envoyer des messages"
   ]
  },
  {
   "cell_type": "code",
   "execution_count": null,
   "metadata": {},
   "outputs": [],
   "source": []
  },
  {
   "cell_type": "markdown",
   "metadata": {},
   "source": []
  }
 ],
 "metadata": {
  "kernelspec": {
   "display_name": "Python 3",
   "language": "python",
   "name": "python3"
  },
  "language_info": {
   "codemirror_mode": {
    "name": "ipython",
    "version": 3
   },
   "file_extension": ".py",
   "mimetype": "text/x-python",
   "name": "python",
   "nbconvert_exporter": "python",
   "pygments_lexer": "ipython3",
   "version": "3.11.3"
  }
 },
 "nbformat": 4,
 "nbformat_minor": 2
}
